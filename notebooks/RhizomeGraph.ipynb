{
 "cells": [
  {
   "cell_type": "markdown",
   "id": "01323565",
   "metadata": {},
   "source": [
    "# Rhizomatic Concept Network\n",
    "\n",
    "This notebook models a rhizomatic network of concepts inspired by Deleuze & Guattari's *A Thousand Plateaus*."
   ]
  },
  {
   "cell_type": "code",
   "execution_count": null,
   "id": "a64a3bbb",
   "metadata": {},
   "outputs": [],
   "source": [
    "import networkx as nx\n",
    "import matplotlib.pyplot as plt\n",
    "%matplotlib inline"
   ]
  },
  {
   "cell_type": "markdown",
   "id": "2e15e7b0",
   "metadata": {},
   "source": [
    "## Sample Concept Connections\n",
    "Define symbolic or thematic links between concepts."
   ]
  },
  {
   "cell_type": "code",
   "execution_count": null,
   "id": "7e955a46",
   "metadata": {},
   "outputs": [],
   "source": [
    "connections = [\n",
    "    (\"Lilith\", \"Womb\"),\n",
    "    (\"Womb\", \"Blood\"),\n",
    "    (\"Blood\", \"Cain\"),\n",
    "    (\"Cain\", \"Exile\"),\n",
    "    (\"Exile\", \"Fire\"),\n",
    "    (\"Fire\", \"Desire\"),\n",
    "    (\"Desire\", \"Lilith\")\n",
    "]"
   ]
  },
  {
   "cell_type": "markdown",
   "id": "ea5e2fdf",
   "metadata": {},
   "source": [
    "## Build and Visualize the Graph"
   ]
  },
  {
   "cell_type": "code",
   "execution_count": null,
   "id": "371bda48",
   "metadata": {},
   "outputs": [],
   "source": [
    "G = nx.Graph()\n",
    "G.add_edges_from(connections)\n",
    "\n",
    "plt.figure(figsize=(10, 7))\n",
    "nx.draw_networkx(G, with_labels=True, node_color='lightblue', font_size=12, edge_color='gray')\n",
    "plt.title(\"Rhizomatic Network Graph\")"
   ]
  },
  {
   "cell_type": "markdown",
   "id": "e4f5189a",
   "metadata": {},
   "source": [
    "## Notes\n",
    "- Each node represents a concept.\n",
    "- Each edge reflects a co-occurrence or thematic relationship.\n",
    "\n",
    "This visualization is a sketch of how desire and myth form plateaus rather than trees."
   ]
  }
 ],
 "metadata": {},
 "nbformat": 4,
 "nbformat_minor": 5
}